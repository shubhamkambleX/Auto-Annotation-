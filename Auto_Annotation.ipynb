{
  "nbformat": 4,
  "nbformat_minor": 0,
  "metadata": {
    "colab": {
      "provenance": []
    },
    "kernelspec": {
      "name": "python3",
      "display_name": "Python 3"
    },
    "language_info": {
      "name": "python"
    }
  },
  "cells": [
    {
      "cell_type": "code",
      "execution_count": null,
      "metadata": {
        "id": "G0orX692Qx90"
      },
      "outputs": [],
      "source": [
        "!pip install torch torchvision"
      ]
    },
    {
      "cell_type": "code",
      "source": [
        "import warnings\n",
        "warnings.simplefilter(\"ignore\")\n",
        "import os\n",
        "import torch\n",
        "import torchvision.transforms as T\n",
        "from torchvision.models.detection import fasterrcnn_resnet50_fpn\n",
        "from PIL import Image, ImageDraw"
      ],
      "metadata": {
        "id": "3zDhfdh8Q6y-"
      },
      "execution_count": null,
      "outputs": []
    },
    {
      "cell_type": "code",
      "source": [
        "# Load pre-trained Faster R-CNN model\n",
        "model = fasterrcnn_resnet50_fpn(pretrained=True)\n",
        "model.eval()\n",
        "\n",
        "# Define a function for image annotation\n",
        "def annotate_image(image_path, output_path='annotated_images', confidence_threshold=0.5):\n",
        "    # Create output directory if it doesn't exist\n",
        "    os.makedirs(output_path, exist_ok=True)\n",
        "\n",
        "    # Process each image in the directory\n",
        "    for filename in os.listdir(image_path):\n",
        "        if filename.endswith(('.jpg', '.jpeg', '.png')):\n",
        "            # Load the image\n",
        "            img_path = os.path.join(image_path, filename)\n",
        "            img = Image.open(img_path).convert(\"RGB\")\n",
        "\n",
        "            # Preprocess the image\n",
        "            transform = T.Compose([T.ToTensor()])\n",
        "            input_img = transform(img).unsqueeze(0)\n",
        "\n",
        "            # Perform inference\n",
        "            with torch.no_grad():\n",
        "                prediction = model(input_img)\n",
        "\n",
        "            # Draw bounding boxes on the image\n",
        "            draw = ImageDraw.Draw(img)\n",
        "            boxes = prediction[0]['boxes'].cpu().numpy()\n",
        "            scores = prediction[0]['scores'].cpu().numpy()\n",
        "\n",
        "            # Create a list to store coordinates\n",
        "            coordinates = []\n",
        "\n",
        "            for box, score in zip(boxes, scores):\n",
        "                if score > confidence_threshold:\n",
        "                    draw.rectangle(box, outline=\"red\", width=3)\n",
        "                    coordinates.append(box.tolist())\n",
        "\n",
        "            # Save annotated image\n",
        "            output_img_path = os.path.join(output_path, f'annotated_{filename}')\n",
        "            img.save(output_img_path)\n",
        "\n",
        "            # Save coordinates to a text file\n",
        "            output_txt_path = os.path.join(output_path, f'coordinates_{filename}.txt')\n",
        "            with open(output_txt_path, 'w') as f:\n",
        "                for coord in coordinates:\n",
        "                    f.write(','.join(map(str, coord)) + '\\n')\n",
        "\n",
        "# Test the annotation function on a directory of images\n",
        "annotate_image('C:/Users/shubham.kamble/Pictures/Auto_Annoatatepoc/image_dataset', output_path='C:/Users/shubham.kamble/Pictures/Auto_Annoatatepoc/output_images', confidence_threshold=0.5)\n"
      ],
      "metadata": {
        "id": "PBOfFr8LRAYR"
      },
      "execution_count": null,
      "outputs": []
    }
  ]
}